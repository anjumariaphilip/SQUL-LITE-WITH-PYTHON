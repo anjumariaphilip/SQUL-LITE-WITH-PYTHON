{
  "nbformat": 4,
  "nbformat_minor": 0,
  "metadata": {
    "colab": {
      "name": "PYTHON WITH SQUL LITE10.ipynb",
      "provenance": [],
      "authorship_tag": "ABX9TyOpB1R3R/W1MwCmC88mbUQv",
      "include_colab_link": true
    },
    "kernelspec": {
      "name": "python3",
      "display_name": "Python 3"
    },
    "language_info": {
      "name": "python"
    }
  },
  "cells": [
    {
      "cell_type": "markdown",
      "metadata": {
        "id": "view-in-github",
        "colab_type": "text"
      },
      "source": [
        "<a href=\"https://colab.research.google.com/github/anjumariaphilip/SQUL-LITE-WITH-PYTHON/blob/main/PYTHON_WITH_SQUL_LITE10.ipynb\" target=\"_parent\"><img src=\"https://colab.research.google.com/assets/colab-badge.svg\" alt=\"Open In Colab\"/></a>"
      ]
    },
    {
      "cell_type": "code",
      "execution_count": 2,
      "metadata": {
        "colab": {
          "base_uri": "https://localhost:8080/"
        },
        "id": "1IEwdS4QHTqW",
        "outputId": "b32d83c1-10ba-4ec5-d1b3-02ab272ef2dd"
      },
      "outputs": [
        {
          "output_type": "stream",
          "name": "stdout",
          "text": [
            "[('1',)]\n"
          ]
        }
      ],
      "source": [
        " \n",
        "import sqlite3\n",
        " \n",
        "conn = sqlite3.connect('/SalesDBNew (1).db')\n",
        "\n",
        " \n",
        "cursor = conn.cursor()\n",
        "cursor.execute(\"select min(quantity) from supermarket_sales\")\n",
        " \n",
        "\n",
        "\n",
        "print(cursor.fetchall())\n",
        "  \n",
        "conn.commit()\n",
        "conn.close()\n",
        "\n",
        "\n",
        "conn.close()"
      ]
    },
    {
      "cell_type": "code",
      "source": [
        "conn = sqlite3.connect('/SalesDBNew (1).db')\n",
        "\n",
        " \n",
        "cursor = conn.cursor()\n",
        "cursor.execute(\"select count(quantity) from supermarket_sales\")\n",
        " \n",
        "\n",
        "\n",
        "print(cursor.fetchall())\n",
        "  \n",
        "conn.commit()\n",
        "conn.close()\n",
        "\n",
        "\n",
        "conn.close()"
      ],
      "metadata": {
        "colab": {
          "base_uri": "https://localhost:8080/"
        },
        "id": "un81oMNhJ4Yz",
        "outputId": "121b8b55-a922-4c5d-f22f-d629cfb395fc"
      },
      "execution_count": 3,
      "outputs": [
        {
          "output_type": "stream",
          "name": "stdout",
          "text": [
            "[(1000,)]\n"
          ]
        }
      ]
    },
    {
      "cell_type": "code",
      "source": [
        "conn = sqlite3.connect('/SalesDBNew (1).db')\n",
        "\n",
        " \n",
        "cursor = conn.cursor()\n",
        "cursor.execute(\"select count(quantity) from supermarket_sales\")\n",
        " \n",
        "\n",
        "\n",
        "print(cursor.fetchall())\n",
        "  \n",
        "conn.commit()\n",
        "conn.close()\n",
        "\n",
        "\n",
        "conn.close()"
      ],
      "metadata": {
        "id": "42hHGwpjKLCa"
      },
      "execution_count": null,
      "outputs": []
    },
    {
      "cell_type": "code",
      "source": [
        "conn = sqlite3.connect('/SalesDBNew (1).db')\n",
        "\n",
        " \n",
        "cursor = conn.cursor()\n",
        "cursor.execute(\"select count(quantity) and avg(unitprice) from supermarket_sales\")\n",
        " \n",
        "\n",
        "\n",
        "print(cursor.fetchall())\n",
        "  \n",
        "conn.commit()\n",
        "conn.close()\n",
        "\n",
        "\n",
        "conn.close()"
      ],
      "metadata": {
        "colab": {
          "base_uri": "https://localhost:8080/"
        },
        "id": "p5EOPPadKXqL",
        "outputId": "b08eaded-283f-4aee-db4a-f31e11b7890d"
      },
      "execution_count": 4,
      "outputs": [
        {
          "output_type": "stream",
          "name": "stdout",
          "text": [
            "[(1,)]\n"
          ]
        }
      ]
    }
  ]
}